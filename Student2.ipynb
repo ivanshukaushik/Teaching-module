{
 "cells": [
  {
   "cell_type": "code",
   "execution_count": 11,
   "metadata": {},
   "outputs": [],
   "source": [
    "import pandas as pd\n",
    "s = r'‪C:\\Users\\Ivanshu\\Desktop\\Geography.csv'\n",
    "s = s.lstrip('\\u202a')\n",
    "with open(s) as file:\n",
    "    df = pd.read_csv(file)"
   ]
  },
  {
   "cell_type": "code",
   "execution_count": 12,
   "metadata": {},
   "outputs": [
    {
     "name": "stdout",
     "output_type": "stream",
     "text": [
      "Index(['Timestamp', 'Username', 'Total score', 'NAME ', 'NAME  [Score]',\n",
      "       'NAME  [Feedback]', 'STD', 'STD [Score]', 'STD [Feedback]',\n",
      "       'DIV  [Row 1]', 'DIV  [Row 1] [Score]',\n",
      "       'The main aim of the map is to show the ',\n",
      "       'The main aim of the map is to show the  [Score]',\n",
      "       'The main aim of the map is to show the  [Feedback]',\n",
      "       'Earthquake and Volcanoes Occurs because of ',\n",
      "       'Earthquake and Volcanoes Occurs because of  [Score]',\n",
      "       'Earthquake and Volcanoes Occurs because of  [Feedback]',\n",
      "       'The Magnitude of the earthquake is measured by  ',\n",
      "       'The Magnitude of the earthquake is measured by   [Score]',\n",
      "       'The Magnitude of the earthquake is measured by   [Feedback]',\n",
      "       'Maps prepared with special themes are called ',\n",
      "       'Maps prepared with special themes are called  [Score]',\n",
      "       'Maps prepared with special themes are called  [Feedback]',\n",
      "       'Field Visits are extremely useful for understanding the correlation between humans and ',\n",
      "       'Field Visits are extremely useful for understanding the correlation between humans and  [Score]',\n",
      "       'Field Visits are extremely useful for understanding the correlation between humans and  [Feedback]',\n",
      "       'An Example of Fold Mountain', 'An Example of Fold Mountain [Score]',\n",
      "       'An Example of Fold Mountain [Feedback]',\n",
      "       'Wave that travels at a very fast speed from the focus of the earthquake ',\n",
      "       'Wave that travels at a very fast speed from the focus of the earthquake  [Score]',\n",
      "       'Wave that travels at a very fast speed from the focus of the earthquake  [Feedback]',\n",
      "       'The internal movements which takes place when Tsunamis are generated in coastal areas ',\n",
      "       'The internal movements which takes place when Tsunamis are generated in coastal areas  [Score]',\n",
      "       'The internal movements which takes place when Tsunamis are generated in coastal areas  [Feedback]',\n",
      "       'In Isopleth maps locations with the same values are joined by ',\n",
      "       'In Isopleth maps locations with the same values are joined by  [Score]',\n",
      "       'In Isopleth maps locations with the same values are joined by  [Feedback]',\n",
      "       'Plateau of India formed due to fissure type of valcano  ',\n",
      "       'Plateau of India formed due to fissure type of valcano   [Score]',\n",
      "       'Plateau of India formed due to fissure type of valcano   [Feedback]',\n",
      "       'Before going on Field Visit we should never decide the place and purpose',\n",
      "       'Before going on Field Visit we should never decide the place and purpose [Score]',\n",
      "       'Before going on Field Visit we should never decide the place and purpose [Feedback]',\n",
      "       'Slow Movements Occurs from the Centre of the earth towards the earth's crust',\n",
      "       'Slow Movements Occurs from the Centre of the earth towards the earth's crust [Score]',\n",
      "       'Slow Movements Occurs from the Centre of the earth towards the earth's crust [Feedback]',\n",
      "       'Siesmogram is an Instrument through which graph showing movement of Siesmic waves can be generated',\n",
      "       'Siesmogram is an Instrument through which graph showing movement of Siesmic waves can be generated [Score]',\n",
      "       'Siesmogram is an Instrument through which graph showing movement of Siesmic waves can be generated [Feedback]',\n",
      "       'Choropleth Maps are used to Show altitudes',\n",
      "       'Choropleth Maps are used to Show altitudes [Score]',\n",
      "       'Choropleth Maps are used to Show altitudes [Feedback]',\n",
      "       'The Main aim of distributional map is to show location ',\n",
      "       'The Main aim of distributional map is to show location  [Score]',\n",
      "       'The Main aim of distributional map is to show location  [Feedback]',\n",
      "       'Waves when divert from each other , create ',\n",
      "       'Waves when divert from each other , create  [Score]',\n",
      "       'Waves when divert from each other , create  [Feedback]',\n",
      "       'The method which is most suitable for that Variable which is freely scattered across a region',\n",
      "       'The method which is most suitable for that Variable which is freely scattered across a region [Score]',\n",
      "       'The method which is most suitable for that Variable which is freely scattered across a region [Feedback]',\n",
      "       'Process which should occur in the earth's crust for the formation of a Rift Valley',\n",
      "       'Process which should occur in the earth's crust for the formation of a Rift Valley [Score]',\n",
      "       'Process which should occur in the earth's crust for the formation of a Rift Valley [Feedback]',\n",
      "       'The forward backward movements  of the particles occurs due to which type of siesmic waves ',\n",
      "       'The forward backward movements  of the particles occurs due to which type of siesmic waves  [Score]',\n",
      "       'The forward backward movements  of the particles occurs due to which type of siesmic waves  [Feedback]',\n",
      "       'While preparing dot map ,data is gathered through',\n",
      "       'While preparing dot map ,data is gathered through [Score]',\n",
      "       'While preparing dot map ,data is gathered through [Feedback]'],\n",
      "      dtype='object')\n"
     ]
    }
   ],
   "source": [
    "columns = df.columns\n",
    "print(columns)"
   ]
  },
  {
   "cell_type": "code",
   "execution_count": 13,
   "metadata": {},
   "outputs": [
    {
     "name": "stdout",
     "output_type": "stream",
     "text": [
      "0    E\n",
      "1    A\n",
      "2    D\n",
      "3    D\n",
      "4    A\n",
      "Name: DIV  [Row 1], dtype: object\n"
     ]
    }
   ],
   "source": [
    "section = df['DIV  [Row 1]']\n",
    "print(section[:5])"
   ]
  },
  {
   "cell_type": "code",
   "execution_count": 14,
   "metadata": {},
   "outputs": [],
   "source": [
    "A = []\n",
    "a_count = 0\n",
    "B = []\n",
    "b_count = 0\n",
    "C = []\n",
    "c_count = 0\n",
    "D = []\n",
    "d_count = 0\n",
    "E = []\n",
    "e_count = 0\n",
    "\n",
    "wrong_students = []\n",
    "\n",
    "for i, student in enumerate(section):\n",
    "    if 'A' in student or 'a' in student:\n",
    "        a_count += 1\n",
    "        \n",
    "    elif 'B' in student or 'b' in student:\n",
    "        b_count += 1\n",
    "    elif 'C' in student or 'c' in student:\n",
    "        c_count += 1\n",
    "        # print(student)\n",
    "    elif 'D' in student or 'd' in student:\n",
    "        d_count += 1\n",
    "    elif 'E' in student or 'e' in student:\n",
    "        e_count += 1\n",
    "        \n",
    "    else:\n",
    "        print(student)\n",
    "        wrong_students.append(i)\n",
    "        \n",
    "\n",
    "     \n",
    "    "
   ]
  },
  {
   "cell_type": "code",
   "execution_count": 15,
   "metadata": {},
   "outputs": [
    {
     "name": "stdout",
     "output_type": "stream",
     "text": [
      "53 45 43 54 51\n"
     ]
    }
   ],
   "source": [
    "print(a_count, b_count, c_count, d_count, e_count)"
   ]
  },
  {
   "cell_type": "code",
   "execution_count": 16,
   "metadata": {},
   "outputs": [
    {
     "name": "stdout",
     "output_type": "stream",
     "text": [
      "[]\n"
     ]
    }
   ],
   "source": [
    "print(wrong_students)"
   ]
  },
  {
   "cell_type": "code",
   "execution_count": 17,
   "metadata": {},
   "outputs": [
    {
     "name": "stdout",
     "output_type": "stream",
     "text": [
      "246\n"
     ]
    }
   ],
   "source": [
    "print(len(section))"
   ]
  },
  {
   "cell_type": "code",
   "execution_count": null,
   "metadata": {},
   "outputs": [],
   "source": []
  }
 ],
 "metadata": {
  "kernelspec": {
   "display_name": "Python 3",
   "language": "python",
   "name": "python3"
  },
  "language_info": {
   "codemirror_mode": {
    "name": "ipython",
    "version": 3
   },
   "file_extension": ".py",
   "mimetype": "text/x-python",
   "name": "python",
   "nbconvert_exporter": "python",
   "pygments_lexer": "ipython3",
   "version": "3.7.6"
  }
 },
 "nbformat": 4,
 "nbformat_minor": 4
}
